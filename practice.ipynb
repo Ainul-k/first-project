{
 "cells": [
  {
   "cell_type": "code",
   "execution_count": null,
   "id": "2eec41ca-db82-49fd-93bb-8cd371f48add",
   "metadata": {},
   "outputs": [],
   "source": [
    "import requests\n",
    "from bs4 import beautifulsoup\n",
    "import pandas as pd"
   ]
  },
  {
   "cell_type": "code",
   "execution_count": null,
   "id": "7f7d265b-3f69-47ca-824d-7222aab9eea5",
   "metadata": {},
   "outputs": [],
   "source": [
    "url = \"https://www.airlinequality.com/airline-reviews/british-airways/page/4/?sortby=post_date%3ADesc&pagesize=100\""
   ]
  },
  {
   "cell_type": "code",
   "execution_count": null,
   "id": "c259a170-7e48-42b6-ba06-bf4710153887",
   "metadata": {},
   "outputs": [],
   "source": [
    "page = requests.get(url)"
   ]
  },
  {
   "cell_type": "code",
   "execution_count": null,
   "id": "c2b50a24-c7ed-4fb8-a2bd-866b4a0ba0d5",
   "metadata": {},
   "outputs": [],
   "source": [
    "soup = BeautifulSoup(page.text,\"html\")"
   ]
  },
  {
   "cell_type": "code",
   "execution_count": null,
   "id": "313c47eb-37bb-426a-9c30-63945fc4d179",
   "metadata": {},
   "outputs": [],
   "source": [
    "Review_Header = soup.find_all(\""
   ]
  },
  {
   "cell_type": "code",
   "execution_count": null,
   "id": "9339bb4d-e12d-4fc4-bb40-9a303eaf8291",
   "metadata": {},
   "outputs": [],
   "source": []
  },
  {
   "cell_type": "code",
   "execution_count": null,
   "id": "21cf1e9e-5004-4e28-b610-7f8d9fd208d8",
   "metadata": {},
   "outputs": [],
   "source": []
  },
  {
   "cell_type": "code",
   "execution_count": null,
   "id": "7208186c-009a-4b1b-8870-9900a648b130",
   "metadata": {},
   "outputs": [],
   "source": []
  },
  {
   "cell_type": "code",
   "execution_count": null,
   "id": "09bd994f-f440-495f-a171-efc78fda0beb",
   "metadata": {},
   "outputs": [],
   "source": []
  },
  {
   "cell_type": "code",
   "execution_count": null,
   "id": "a114c0b1-e568-4fb5-94f8-f79101764149",
   "metadata": {},
   "outputs": [],
   "source": []
  },
  {
   "cell_type": "code",
   "execution_count": null,
   "id": "d4214aff-2236-4938-915a-6b95e42b5329",
   "metadata": {},
   "outputs": [],
   "source": []
  },
  {
   "cell_type": "code",
   "execution_count": null,
   "id": "b769000c-00e9-491d-8e27-464876f3fc3d",
   "metadata": {},
   "outputs": [],
   "source": []
  },
  {
   "cell_type": "code",
   "execution_count": null,
   "id": "1b7444f3-5d23-42cd-8678-c4481259726c",
   "metadata": {},
   "outputs": [],
   "source": []
  },
  {
   "cell_type": "code",
   "execution_count": null,
   "id": "55bee846-da91-423b-a934-008cbe6d222c",
   "metadata": {},
   "outputs": [],
   "source": []
  },
  {
   "cell_type": "code",
   "execution_count": null,
   "id": "a0a990b9-a910-415a-9699-4cd28eedc2a5",
   "metadata": {},
   "outputs": [],
   "source": []
  },
  {
   "cell_type": "code",
   "execution_count": null,
   "id": "b3610664-dc8f-4262-80c3-458768d7aeff",
   "metadata": {},
   "outputs": [],
   "source": []
  },
  {
   "cell_type": "code",
   "execution_count": null,
   "id": "e78a7cec-e0e7-422b-90ca-593a04643cdd",
   "metadata": {},
   "outputs": [],
   "source": []
  },
  {
   "cell_type": "code",
   "execution_count": null,
   "id": "5ffcc45d-1824-4233-89ef-b4db2b54c080",
   "metadata": {},
   "outputs": [],
   "source": []
  },
  {
   "cell_type": "code",
   "execution_count": null,
   "id": "98ce8aa2-5630-4c2d-8d29-a9fe6f3876d2",
   "metadata": {},
   "outputs": [],
   "source": []
  },
  {
   "cell_type": "code",
   "execution_count": null,
   "id": "65fca757-a5f3-4a58-9222-ae7b6503f401",
   "metadata": {},
   "outputs": [],
   "source": []
  },
  {
   "cell_type": "code",
   "execution_count": null,
   "id": "f79294b1-e597-421b-bdf7-87826b55f4d9",
   "metadata": {},
   "outputs": [],
   "source": []
  },
  {
   "cell_type": "code",
   "execution_count": null,
   "id": "43f5cd25-361c-40e1-8f97-c5a8367f64e2",
   "metadata": {},
   "outputs": [],
   "source": []
  },
  {
   "cell_type": "code",
   "execution_count": null,
   "id": "a062405e-bdc3-4d22-bfb3-ca3351149c6f",
   "metadata": {},
   "outputs": [],
   "source": []
  },
  {
   "cell_type": "code",
   "execution_count": null,
   "id": "ab54465a-d2bb-46e1-94b7-ba0bc19135f6",
   "metadata": {},
   "outputs": [],
   "source": []
  },
  {
   "cell_type": "code",
   "execution_count": null,
   "id": "c57b4c76-988e-45ff-af03-4b973b8abe6e",
   "metadata": {},
   "outputs": [],
   "source": []
  },
  {
   "cell_type": "code",
   "execution_count": null,
   "id": "0b520930-5f82-4b71-be30-e40a6d606915",
   "metadata": {},
   "outputs": [],
   "source": []
  },
  {
   "cell_type": "code",
   "execution_count": null,
   "id": "b570af98-b95a-445f-a9e5-cab9c785d4e0",
   "metadata": {},
   "outputs": [],
   "source": []
  },
  {
   "cell_type": "code",
   "execution_count": null,
   "id": "1225d999-2c03-4092-81ed-f5ce6a34bef1",
   "metadata": {},
   "outputs": [],
   "source": []
  },
  {
   "cell_type": "code",
   "execution_count": null,
   "id": "b76fd503-673c-4ed2-a84d-8bc184866482",
   "metadata": {},
   "outputs": [],
   "source": []
  },
  {
   "cell_type": "code",
   "execution_count": null,
   "id": "b8ff14ed-acb5-453b-bf60-d624c415abc7",
   "metadata": {},
   "outputs": [],
   "source": []
  },
  {
   "cell_type": "code",
   "execution_count": null,
   "id": "86a4095a-0de7-41b9-9f49-499e5c35c914",
   "metadata": {},
   "outputs": [],
   "source": []
  },
  {
   "cell_type": "code",
   "execution_count": null,
   "id": "e43fabdf-cf3b-479e-9f54-c31db20d944d",
   "metadata": {},
   "outputs": [],
   "source": []
  },
  {
   "cell_type": "code",
   "execution_count": null,
   "id": "2798362b-3016-4986-9e30-0cbeb0a8c10d",
   "metadata": {},
   "outputs": [],
   "source": []
  },
  {
   "cell_type": "code",
   "execution_count": null,
   "id": "606bd103-27e1-41b7-a5ef-49f99d67eba3",
   "metadata": {},
   "outputs": [],
   "source": []
  },
  {
   "cell_type": "code",
   "execution_count": null,
   "id": "1e640e83-646c-41ed-a7fe-390551ff9a2b",
   "metadata": {},
   "outputs": [],
   "source": []
  },
  {
   "cell_type": "code",
   "execution_count": null,
   "id": "18c49e8e-ced6-40d3-bd68-765524d532c2",
   "metadata": {},
   "outputs": [],
   "source": []
  },
  {
   "cell_type": "code",
   "execution_count": null,
   "id": "7f07c520-44ef-4286-8695-74fcdcb39e22",
   "metadata": {},
   "outputs": [],
   "source": []
  },
  {
   "cell_type": "code",
   "execution_count": null,
   "id": "23de3a60-e071-4ada-af2a-3511e60d6ad1",
   "metadata": {},
   "outputs": [],
   "source": []
  }
 ],
 "metadata": {
  "kernelspec": {
   "display_name": "Python [conda env:base] *",
   "language": "python",
   "name": "conda-base-py"
  },
  "language_info": {
   "codemirror_mode": {
    "name": "ipython",
    "version": 3
   },
   "file_extension": ".py",
   "mimetype": "text/x-python",
   "name": "python",
   "nbconvert_exporter": "python",
   "pygments_lexer": "ipython3",
   "version": "3.12.7"
  },
  "panel-cell-order": [
   "defeba23-3b06-418c-aa8f-43e185ff451e"
  ]
 },
 "nbformat": 4,
 "nbformat_minor": 5
}
